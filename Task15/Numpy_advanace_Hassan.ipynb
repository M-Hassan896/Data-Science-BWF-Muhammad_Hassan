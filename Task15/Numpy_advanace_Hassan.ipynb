{
  "cells": [
    {
      "cell_type": "markdown",
      "id": "1e30a093",
      "metadata": {
        "id": "1e30a093"
      },
      "source": [
        "numpy array are fast convenient less memory insted of list\n",
        "Numpy is used in syntific and numerical computation"
      ]
    },
    {
      "cell_type": "code",
      "execution_count": null,
      "id": "a607808c",
      "metadata": {
        "id": "a607808c",
        "outputId": "f9e979ee-c279-4da2-8182-2a84fbda66e8"
      },
      "outputs": [
        {
          "name": "stdout",
          "output_type": "stream",
          "text": [
            "[1 2 3 4 5]\n"
          ]
        }
      ],
      "source": [
        "import numpy as np\n",
        "a=np.array([1,2,3,4,5])\n",
        "print(a)\n"
      ]
    },
    {
      "cell_type": "code",
      "execution_count": null,
      "id": "c3786e3a",
      "metadata": {
        "id": "c3786e3a",
        "outputId": "783712ec-4d82-4e44-ad1c-a16d7729afc8"
      },
      "outputs": [
        {
          "data": {
            "text/plain": [
              "array([1, 2, 3, 4, 5])"
            ]
          },
          "execution_count": 4,
          "metadata": {},
          "output_type": "execute_result"
        }
      ],
      "source": [
        "import numpy as np\n",
        "a=np.array([1,2,3,4,5])\n",
        "a"
      ]
    },
    {
      "cell_type": "code",
      "execution_count": null,
      "id": "2af4e7e9",
      "metadata": {
        "id": "2af4e7e9",
        "outputId": "3e24224f-dfbd-4f76-f1f5-3bb2bf7be8c2"
      },
      "outputs": [
        {
          "data": {
            "text/plain": [
              "1"
            ]
          },
          "execution_count": 5,
          "metadata": {},
          "output_type": "execute_result"
        }
      ],
      "source": [
        "a[0]"
      ]
    },
    {
      "cell_type": "markdown",
      "id": "3ecfb15c",
      "metadata": {
        "id": "3ecfb15c"
      },
      "source": [
        "# Numpy Operations\n",
        "\n",
        " Find dimension of Array\n",
        ""
      ]
    },
    {
      "cell_type": "code",
      "execution_count": null,
      "id": "21a54e29",
      "metadata": {
        "id": "21a54e29",
        "outputId": "2a1e4b19-9d04-477d-ccf1-f2147768f018"
      },
      "outputs": [
        {
          "name": "stdout",
          "output_type": "stream",
          "text": [
            "2\n",
            "2\n"
          ]
        }
      ],
      "source": [
        "import numpy as np\n",
        "a=np.array([(1,2,3),(4,5,6)])\n",
        "b=np.array([1,2,3])\n",
        "print(b.ndim)\n",
        "print(a.ndim)"
      ]
    },
    {
      "cell_type": "markdown",
      "id": "199d840c",
      "metadata": {
        "id": "199d840c"
      },
      "source": [
        "# finding byte size of Array"
      ]
    },
    {
      "cell_type": "code",
      "execution_count": null,
      "id": "a2e50535",
      "metadata": {
        "id": "a2e50535",
        "outputId": "a0d58786-dd5a-4531-f314-0b5e2fb564c3"
      },
      "outputs": [
        {
          "name": "stdout",
          "output_type": "stream",
          "text": [
            "4\n"
          ]
        }
      ],
      "source": [
        "print(a.itemsize)"
      ]
    },
    {
      "cell_type": "code",
      "execution_count": null,
      "id": "b078ef72",
      "metadata": {
        "id": "b078ef72",
        "outputId": "36dba97b-0612-4f6a-d190-e1069380cd69"
      },
      "outputs": [
        {
          "name": "stdout",
          "output_type": "stream",
          "text": [
            "int32\n"
          ]
        }
      ],
      "source": [
        "print(a.dtype)"
      ]
    },
    {
      "cell_type": "markdown",
      "id": "d78473a9",
      "metadata": {
        "id": "d78473a9"
      },
      "source": [
        "# Finding size of Array"
      ]
    },
    {
      "cell_type": "code",
      "execution_count": null,
      "id": "8b79c365",
      "metadata": {
        "id": "8b79c365",
        "outputId": "11e41abd-0b42-4bdd-ffe1-153a8e88ea5b"
      },
      "outputs": [
        {
          "name": "stdout",
          "output_type": "stream",
          "text": [
            "6\n"
          ]
        }
      ],
      "source": [
        "print(a.size)"
      ]
    },
    {
      "cell_type": "markdown",
      "id": "c0e3d854",
      "metadata": {
        "id": "c0e3d854"
      },
      "source": [
        "# finding shape of Array"
      ]
    },
    {
      "cell_type": "code",
      "execution_count": null,
      "id": "70406e03",
      "metadata": {
        "id": "70406e03",
        "outputId": "aee3ca44-c42a-4603-b8ae-fbcf9f00a857"
      },
      "outputs": [
        {
          "name": "stdout",
          "output_type": "stream",
          "text": [
            "(2, 3)\n"
          ]
        }
      ],
      "source": [
        "print(a.shape)"
      ]
    },
    {
      "cell_type": "code",
      "execution_count": null,
      "id": "825d2316",
      "metadata": {
        "id": "825d2316",
        "outputId": "b25ded91-c4eb-4904-9385-9aa9ec01672c"
      },
      "outputs": [
        {
          "name": "stdout",
          "output_type": "stream",
          "text": [
            "[[1 2]\n",
            " [3 4]\n",
            " [7 8]\n",
            " [9 3]]\n"
          ]
        }
      ],
      "source": [
        "a=np.array([(1,2,3,4),(7,8,9,3)])\n",
        "a=a.reshape(4,2)\n",
        "print(a)"
      ]
    },
    {
      "cell_type": "markdown",
      "id": "c73eb2a8",
      "metadata": {
        "id": "c73eb2a8"
      },
      "source": [
        "# Finding Slicing In Array"
      ]
    },
    {
      "cell_type": "code",
      "execution_count": null,
      "id": "b9c7ea57",
      "metadata": {
        "id": "b9c7ea57",
        "outputId": "f2d4b2ee-df26-4263-ae2f-a6c71546430f"
      },
      "outputs": [
        {
          "name": "stdout",
          "output_type": "stream",
          "text": [
            "3\n"
          ]
        }
      ],
      "source": [
        "a=np.array([(1,2,3,4),(7,8,9,3)])\n",
        "print(a[0,2])"
      ]
    },
    {
      "cell_type": "code",
      "execution_count": null,
      "id": "e52433ff",
      "metadata": {
        "id": "e52433ff",
        "outputId": "ee6e2bf7-2acf-49a6-edef-b138014fd0c3"
      },
      "outputs": [
        {
          "name": "stdout",
          "output_type": "stream",
          "text": [
            "[4 3]\n"
          ]
        }
      ],
      "source": [
        "print(a[0:,3])"
      ]
    },
    {
      "cell_type": "code",
      "execution_count": null,
      "id": "a773bba4",
      "metadata": {
        "id": "a773bba4",
        "outputId": "a70969cf-f987-4fa6-d039-34702aad2fb4"
      },
      "outputs": [
        {
          "name": "stdout",
          "output_type": "stream",
          "text": [
            "[4 3]\n"
          ]
        }
      ],
      "source": [
        "print(a[0:2,3])"
      ]
    },
    {
      "cell_type": "markdown",
      "id": "e4bbfc11",
      "metadata": {
        "id": "e4bbfc11"
      },
      "source": [
        "# Perform Linespacing in Array"
      ]
    },
    {
      "cell_type": "code",
      "execution_count": null,
      "id": "b635c4e1",
      "metadata": {
        "id": "b635c4e1",
        "outputId": "cfc8618c-c277-4c88-a50d-e717a1163fd0"
      },
      "outputs": [
        {
          "name": "stdout",
          "output_type": "stream",
          "text": [
            "[1.         1.22222222 1.44444444 1.66666667 1.88888889 2.11111111\n",
            " 2.33333333 2.55555556 2.77777778 3.        ]\n"
          ]
        }
      ],
      "source": [
        "a=np.linspace(1,3,10)\n",
        "print(a)"
      ]
    },
    {
      "cell_type": "markdown",
      "id": "797f8cd1",
      "metadata": {
        "id": "797f8cd1"
      },
      "source": [
        "# Min ,Max ,Sum of Array"
      ]
    },
    {
      "cell_type": "code",
      "execution_count": null,
      "id": "44bcaf22",
      "metadata": {
        "id": "44bcaf22",
        "outputId": "2e43e9ca-a155-446f-ca19-dd7e3517dcde"
      },
      "outputs": [
        {
          "name": "stdout",
          "output_type": "stream",
          "text": [
            "7\n"
          ]
        }
      ],
      "source": [
        "a=np.array([1,2,3,4,5,6,7])\n",
        "print(a.max())\n",
        "print(a,min())\n",
        "print(a.max())"
      ]
    },
    {
      "cell_type": "markdown",
      "id": "fa0a7010",
      "metadata": {
        "id": "fa0a7010"
      },
      "source": [
        "# find Axis Row[1] and Colum[0]"
      ]
    },
    {
      "cell_type": "code",
      "execution_count": null,
      "id": "56be5046",
      "metadata": {
        "id": "56be5046",
        "outputId": "545271b3-7b41-4329-c213-260760bbd7dc"
      },
      "outputs": [
        {
          "name": "stdout",
          "output_type": "stream",
          "text": [
            "[ 6  8 10 12]\n"
          ]
        }
      ],
      "source": [
        "a=np.array([(1,2,3,4),(5,6,7,8)])\n",
        "print(a.sum(axis=0))\n",
        "print(a.sum(axis=1))"
      ]
    },
    {
      "cell_type": "markdown",
      "id": "c8678937",
      "metadata": {
        "id": "c8678937"
      },
      "source": [
        "# Finding square root and Standard deviation"
      ]
    },
    {
      "cell_type": "code",
      "execution_count": null,
      "id": "0e39de1d",
      "metadata": {
        "id": "0e39de1d",
        "outputId": "c80a9d9a-fab9-4cf5-96f0-69242dfcd02c"
      },
      "outputs": [
        {
          "name": "stdout",
          "output_type": "stream",
          "text": [
            "[[1.         1.41421356 1.73205081 2.        ]\n",
            " [2.23606798 2.44948974 2.64575131 2.82842712]]\n"
          ]
        }
      ],
      "source": [
        "a=np.array([(1,2,3,4),(5,6,7,8)])\n",
        "print(np.sqrt(a))\n",
        "a=np.array([(1,2,3,4),(5,6,7,8)])\n",
        "print(np.std(a))"
      ]
    }
  ],
  "metadata": {
    "kernelspec": {
      "display_name": "Python 3 (ipykernel)",
      "language": "python",
      "name": "python3"
    },
    "language_info": {
      "codemirror_mode": {
        "name": "ipython",
        "version": 3
      },
      "file_extension": ".py",
      "mimetype": "text/x-python",
      "name": "python",
      "nbconvert_exporter": "python",
      "pygments_lexer": "ipython3",
      "version": "3.9.7"
    },
    "colab": {
      "provenance": []
    }
  },
  "nbformat": 4,
  "nbformat_minor": 5
}