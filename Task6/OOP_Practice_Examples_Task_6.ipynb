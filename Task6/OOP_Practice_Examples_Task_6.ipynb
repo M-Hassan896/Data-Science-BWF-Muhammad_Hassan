{
  "nbformat": 4,
  "nbformat_minor": 0,
  "metadata": {
    "colab": {
      "provenance": []
    },
    "kernelspec": {
      "name": "python3",
      "display_name": "Python 3"
    },
    "language_info": {
      "name": "python"
    }
  },
  "cells": [
    {
      "cell_type": "markdown",
      "source": [
        "**Muhammad Hassan**"
      ],
      "metadata": {
        "id": "XotDEjZMn2pR"
      }
    },
    {
      "cell_type": "markdown",
      "source": [
        "**OOP Practice Examples**"
      ],
      "metadata": {
        "id": "2bjxBYggnv1a"
      }
    },
    {
      "cell_type": "markdown",
      "source": [
        "Create a class Book with attributes title and author. Include a method to display book details."
      ],
      "metadata": {
        "id": "d6Hm3afDn9qu"
      }
    },
    {
      "cell_type": "code",
      "execution_count": 1,
      "metadata": {
        "colab": {
          "base_uri": "https://localhost:8080/"
        },
        "id": "sHg1wtwynb3P",
        "outputId": "2499b18b-cd47-49cb-c37c-dcdfb9e22016"
      },
      "outputs": [
        {
          "output_type": "stream",
          "name": "stdout",
          "text": [
            "Title: 1984, Author: George Orwell\n"
          ]
        }
      ],
      "source": [
        "class Book:\n",
        "    def __init__(self, title, author):\n",
        "        self.title = title\n",
        "        self.author = author\n",
        "\n",
        "    def display(self):\n",
        "        print(f\"Title: {self.title}, Author: {self.author}\")\n",
        "\n",
        "book1 = Book(\"1984\", \"George Orwell\")\n",
        "book1.display()\n"
      ]
    },
    {
      "cell_type": "markdown",
      "source": [
        "Create a base class Vehicle with attributes make and model, and a method to display them. Create a subclass Car that adds num_doors and overrides the display method.\n",
        "\n"
      ],
      "metadata": {
        "id": "ueMxp8ZioARO"
      }
    },
    {
      "cell_type": "code",
      "source": [
        "class Vehicle:\n",
        "    def __init__(self, make, model):\n",
        "        self.make = make\n",
        "        self.model = model\n",
        "\n",
        "    def display(self):\n",
        "        print(f\"Make: {self.make}, Model: {self.model}\")\n",
        "\n",
        "class Car(Vehicle):\n",
        "    def __init__(self, make, model, num_doors):\n",
        "        super().__init__(make, model)\n",
        "        self.num_doors = num_doors\n",
        "\n",
        "    def display(self):\n",
        "        super().display()\n",
        "        print(f\"Number of doors: {self.num_doors}\")\n",
        "\n",
        "\n",
        "car1 = Car(\"Toyota\", \"Corolla\", 4)\n",
        "car1.display()\n"
      ],
      "metadata": {
        "colab": {
          "base_uri": "https://localhost:8080/"
        },
        "id": "SXmUerxpoEAp",
        "outputId": "d2a63aff-d04f-4579-eb80-0abfa146126a"
      },
      "execution_count": 2,
      "outputs": [
        {
          "output_type": "stream",
          "name": "stdout",
          "text": [
            "Make: Toyota, Model: Corolla\n",
            "Number of doors: 4\n"
          ]
        }
      ]
    },
    {
      "cell_type": "markdown",
      "source": [
        "Create a class BankAccount with private attributes balance. Implement methods to deposit, withdraw, and check balance."
      ],
      "metadata": {
        "id": "az-P5505oI4-"
      }
    },
    {
      "cell_type": "code",
      "source": [
        "class BankAccount:\n",
        "    def __init__(self, initial_balance=0):\n",
        "        self.__balance = initial_balance\n",
        "\n",
        "    def deposit(self, amount):\n",
        "        self.__balance += amount\n",
        "\n",
        "    def withdraw(self, amount):\n",
        "        if amount <= self.__balance:\n",
        "            self.__balance -= amount\n",
        "        else:\n",
        "            print(\"Insufficient funds\")\n",
        "\n",
        "    def get_balance(self):\n",
        "        return self.__balance\n",
        "\n",
        "\n",
        "account = BankAccount(100)\n",
        "account.deposit(50)\n",
        "account.withdraw(30)\n",
        "print(account.get_balance())\n"
      ],
      "metadata": {
        "colab": {
          "base_uri": "https://localhost:8080/"
        },
        "id": "WjfxdiKUoLWT",
        "outputId": "ec1f6ca2-65f7-4561-ef7b-3d3f81049d82"
      },
      "execution_count": 3,
      "outputs": [
        {
          "output_type": "stream",
          "name": "stdout",
          "text": [
            "120\n"
          ]
        }
      ]
    },
    {
      "cell_type": "markdown",
      "source": [
        "Create an abstract base class Shape with an abstract method area. Implement subclasses Circle and Rectangle with specific implementations of area."
      ],
      "metadata": {
        "id": "8MlZzgyfoNcm"
      }
    },
    {
      "cell_type": "code",
      "source": [
        "from abc import ABC, abstractmethod\n",
        "import math\n",
        "\n",
        "class Shape(ABC):\n",
        "    @abstractmethod\n",
        "    def area(self):\n",
        "        pass\n",
        "\n",
        "class Circle(Shape):\n",
        "    def __init__(self, radius):\n",
        "        self.radius = radius\n",
        "\n",
        "    def area(self):\n",
        "        return math.pi * (self.radius ** 2)\n",
        "\n",
        "class Rectangle(Shape):\n",
        "    def __init__(self, width, height):\n",
        "        self.width = width\n",
        "        self.height = height\n",
        "\n",
        "    def area(self):\n",
        "        return self.width * self.height\n",
        "\n",
        "\n",
        "circle = Circle(5)\n",
        "rectangle = Rectangle(4, 6)\n",
        "\n",
        "print(f\"Circle area: {circle.area():.2f}\")\n",
        "print(f\"Rectangle area: {rectangle.area()}\")\n"
      ],
      "metadata": {
        "colab": {
          "base_uri": "https://localhost:8080/"
        },
        "id": "qc-ZZfGEoRlH",
        "outputId": "e70a6030-6a90-4943-f18a-083b522894d6"
      },
      "execution_count": 4,
      "outputs": [
        {
          "output_type": "stream",
          "name": "stdout",
          "text": [
            "Circle area: 78.54\n",
            "Rectangle area: 24\n"
          ]
        }
      ]
    },
    {
      "cell_type": "markdown",
      "source": [
        " Create an abstract base class Animal with an abstract method sound. Implement subclasses Dog and Cat with specific implementations of sound."
      ],
      "metadata": {
        "id": "k2HTOM7VogoA"
      }
    },
    {
      "cell_type": "code",
      "source": [
        "from abc import ABC, abstractmethod\n",
        "\n",
        "class Animal(ABC):\n",
        "    @abstractmethod\n",
        "    def sound(self):\n",
        "        pass\n",
        "\n",
        "class Dog(Animal):\n",
        "    def sound(self):\n",
        "        return \"Woof\"\n",
        "\n",
        "class Cat(Animal):\n",
        "    def sound(self):\n",
        "        return \"Meow\"\n",
        "\n",
        "\n",
        "dog = Dog()\n",
        "cat = Cat()\n",
        "\n",
        "print(f\"Dog sound: {dog.sound()}\")\n",
        "print(f\"Cat sound: {cat.sound()}\")\n"
      ],
      "metadata": {
        "colab": {
          "base_uri": "https://localhost:8080/"
        },
        "id": "0jW43f3XohNO",
        "outputId": "5af71213-eefb-4ced-cda9-e200a2496b66"
      },
      "execution_count": 5,
      "outputs": [
        {
          "output_type": "stream",
          "name": "stdout",
          "text": [
            "Dog sound: Woof\n",
            "Cat sound: Meow\n"
          ]
        }
      ]
    },
    {
      "cell_type": "markdown",
      "source": [
        "Create a base class Shape3D with a method volume. Create subclasses Cube and Sphere with specific implementations."
      ],
      "metadata": {
        "id": "ODMitCNOoi7o"
      }
    },
    {
      "cell_type": "code",
      "source": [
        "import math\n",
        "\n",
        "class Shape3D(ABC):\n",
        "    @abstractmethod\n",
        "    def volume(self):\n",
        "        pass\n",
        "\n",
        "class Cube(Shape3D):\n",
        "    def __init__(self, side):\n",
        "        self.side = side\n",
        "\n",
        "    def volume(self):\n",
        "        return self.side ** 3\n",
        "\n",
        "class Sphere(Shape3D):\n",
        "    def __init__(self, radius):\n",
        "        self.radius = radius\n",
        "\n",
        "    def volume(self):\n",
        "        return (4/3) * math.pi * (self.radius ** 3)\n",
        "\n",
        "cube = Cube(3)\n",
        "sphere = Sphere(2)\n",
        "\n",
        "print(f\"Cube volume: {cube.volume()}\")\n",
        "print(f\"Sphere volume: {sphere.volume():.2f}\")\n"
      ],
      "metadata": {
        "colab": {
          "base_uri": "https://localhost:8080/"
        },
        "id": "bu0OT4BWomMW",
        "outputId": "a162616e-3394-464f-e5f8-84b5f4fc4de9"
      },
      "execution_count": 6,
      "outputs": [
        {
          "output_type": "stream",
          "name": "stdout",
          "text": [
            "Cube volume: 27\n",
            "Sphere volume: 33.51\n"
          ]
        }
      ]
    },
    {
      "cell_type": "markdown",
      "source": [
        "Create a class PasswordManager with private attributes for the password. Implement methods to set, validate, and change the password."
      ],
      "metadata": {
        "id": "uCpMq1v5ordQ"
      }
    },
    {
      "cell_type": "code",
      "source": [
        "class PasswordManager:\n",
        "    def __init__(self, password):\n",
        "        self.__password = password\n",
        "\n",
        "    def validate(self, password):\n",
        "        return password == self.__password\n",
        "\n",
        "    def change_password(self, old_password, new_password):\n",
        "        if self.validate(old_password):\n",
        "            self.__password = new_password\n",
        "            print(\"Password changed successfully\")\n",
        "        else:\n",
        "            print(\"Invalid password\")\n",
        "\n",
        "\n",
        "pm = PasswordManager(\"secret123\")\n",
        "print(pm.validate(\"wrongpass\"))\n",
        "print(pm.validate(\"secret123\"))\n",
        "pm.change_password(\"secret123\", \"newpass\")\n",
        "print(pm.validate(\"newpass\"))\n"
      ],
      "metadata": {
        "colab": {
          "base_uri": "https://localhost:8080/"
        },
        "id": "0xbxeEWMor7r",
        "outputId": "ca9ae742-2f31-4421-94ff-0112e416dab0"
      },
      "execution_count": 7,
      "outputs": [
        {
          "output_type": "stream",
          "name": "stdout",
          "text": [
            "False\n",
            "True\n",
            "Password changed successfully\n",
            "True\n"
          ]
        }
      ]
    },
    {
      "cell_type": "markdown",
      "source": [
        "Create an abstract class PaymentMethod with an abstract method pay. Implement subclasses CreditCard and PayPal."
      ],
      "metadata": {
        "id": "OQA5nCG7ouWx"
      }
    },
    {
      "cell_type": "code",
      "source": [
        "class PaymentMethod(ABC):\n",
        "    @abstractmethod\n",
        "    def pay(self, amount):\n",
        "        pass\n",
        "\n",
        "class CreditCard(PaymentMethod):\n",
        "    def pay(self, amount):\n",
        "        return f\"Paid {amount} using Credit Card\"\n",
        "\n",
        "class PayPal(PaymentMethod):\n",
        "    def pay(self, amount):\n",
        "        return f\"Paid {amount} using PayPal\"\n",
        "\n",
        "cc = CreditCard()\n",
        "pp = PayPal()\n",
        "\n",
        "print(cc.pay(100))\n",
        "print(pp.pay(150))\n"
      ],
      "metadata": {
        "colab": {
          "base_uri": "https://localhost:8080/"
        },
        "id": "lENnyGr1owj4",
        "outputId": "5fbb25fc-de2f-4be3-81e7-2de835ef0fb9"
      },
      "execution_count": 8,
      "outputs": [
        {
          "output_type": "stream",
          "name": "stdout",
          "text": [
            "Paid 100 using Credit Card\n",
            "Paid 150 using PayPal\n"
          ]
        }
      ]
    }
  ]
}