{
  "nbformat": 4,
  "nbformat_minor": 0,
  "metadata": {
    "colab": {
      "provenance": []
    },
    "kernelspec": {
      "name": "python3",
      "display_name": "Python 3"
    },
    "language_info": {
      "name": "python"
    }
  },
  "cells": [
    {
      "cell_type": "markdown",
      "source": [
        "**Practice_Excercises**"
      ],
      "metadata": {
        "id": "_PTH70jAjwFt"
      }
    },
    {
      "cell_type": "markdown",
      "source": [
        "#1. Introduction to Python\n",
        "Exercise:\n",
        "Write a Python program that takes user input for their name and age, and then prints a message that tells them the year they will turn 100 years old."
      ],
      "metadata": {
        "id": "CuFQ3vZdkcLE"
      }
    },
    {
      "cell_type": "code",
      "source": [
        "# Get user's name\n",
        "name = input(\"Enter your name: \")\n",
        "\n",
        "# Get user's age\n",
        "age = int(input(\"Enter your age: \"))\n",
        "\n",
        "# Calculate the year they will turn 100\n",
        "current_year = 2024\n",
        "year_turn_100 = current_year + (100 - age)\n",
        "\n",
        "# Display the message\n",
        "print(f\"Hello, {name}! You will turn 100 years old in the year {year_turn_100}.\")\n"
      ],
      "metadata": {
        "colab": {
          "base_uri": "https://localhost:8080/"
        },
        "id": "ulGxjoLpj3gh",
        "outputId": "adff4d8d-8453-4343-d6d4-2af1574fbb74"
      },
      "execution_count": 1,
      "outputs": [
        {
          "output_type": "stream",
          "name": "stdout",
          "text": [
            "Enter your name: Hassan\n",
            "Enter your age: 22\n",
            "Hello, Hassan! You will turn 100 years old in the year 2102.\n"
          ]
        }
      ]
    },
    {
      "cell_type": "markdown",
      "source": [
        "#2. Python Syntax\n",
        "Exercise: Write a Python program that calculates the factorial of a number provided by the user using a loop."
      ],
      "metadata": {
        "id": "mEQ48lookuNY"
      }
    },
    {
      "cell_type": "code",
      "source": [
        "# Get user input\n",
        "num = int(input(\"Enter a number to calculate its factorial: \"))\n",
        "\n",
        "# Initialize factorial\n",
        "factorial = 1\n",
        "\n",
        "# Calculate factorial using a loop\n",
        "if num < 0:\n",
        "    print(\"Factorial does not exist for negative numbers.\")\n",
        "elif num == 0:\n",
        "    print(\"The factorial of 0 is 1.\")\n",
        "else:\n",
        "    for i in range(1, num + 1):\n",
        "        factorial *= i\n",
        "    print(f\"The factorial of {num} is {factorial}.\")\n"
      ],
      "metadata": {
        "colab": {
          "base_uri": "https://localhost:8080/"
        },
        "id": "ZieR-1pCj3ib",
        "outputId": "cba26a72-db66-405f-f8c7-96b0fdd10842"
      },
      "execution_count": 2,
      "outputs": [
        {
          "output_type": "stream",
          "name": "stdout",
          "text": [
            "Enter a number to calculate its factorial: 5\n",
            "The factorial of 5 is 120.\n"
          ]
        }
      ]
    },
    {
      "cell_type": "markdown",
      "source": [
        "#3. Variables\n",
        "Exercise: Write a Python program that swaps the values of two variables without using a third variable."
      ],
      "metadata": {
        "id": "6BRGb7HclK5Z"
      }
    },
    {
      "cell_type": "code",
      "source": [
        "# Assign values to variables\n",
        "a = 5\n",
        "b = 10\n",
        "\n",
        "# Swap values without using a third variable\n",
        "a, b = b, a\n",
        "\n",
        "# Display the swapped values\n",
        "print(\"After swapping:\")\n",
        "print(\"a =\", a)\n",
        "print(\"b =\", b)\n"
      ],
      "metadata": {
        "colab": {
          "base_uri": "https://localhost:8080/"
        },
        "id": "WWvG-kqhj3mc",
        "outputId": "c8674e68-5b90-4f28-e691-bd49b269405b"
      },
      "execution_count": 3,
      "outputs": [
        {
          "output_type": "stream",
          "name": "stdout",
          "text": [
            "After swapping:\n",
            "a = 10\n",
            "b = 5\n"
          ]
        }
      ]
    },
    {
      "cell_type": "markdown",
      "source": [
        "#4. Conditions\n",
        "Exercise: Write a Python program that checks if a year is a leap year or not."
      ],
      "metadata": {
        "id": "E12L8UHslSBv"
      }
    },
    {
      "cell_type": "code",
      "source": [
        "# Input from the user\n",
        "year = int(input(\"Enter a year: \"))\n",
        "\n",
        "# Check if the year is a leap year\n",
        "if (year % 4 == 0 and year % 100 != 0) or (year % 400 == 0):\n",
        "    print(f\"{year} is a leap year.\")\n",
        "else:\n",
        "    print(f\"{year} is not a leap year.\")\n"
      ],
      "metadata": {
        "colab": {
          "base_uri": "https://localhost:8080/"
        },
        "id": "u3AiLbI4lfhS",
        "outputId": "38bd0991-8dd0-4eed-d953-ae1d82a60949"
      },
      "execution_count": 4,
      "outputs": [
        {
          "output_type": "stream",
          "name": "stdout",
          "text": [
            "Enter a year: 2002\n",
            "2002 is not a leap year.\n"
          ]
        }
      ]
    },
    {
      "cell_type": "markdown",
      "source": [
        "#5. Operators\n"
      ],
      "metadata": {
        "id": "NXttjXfolo1N"
      }
    },
    {
      "cell_type": "code",
      "source": [
        "# Comparison operations\n",
        "x = 5\n",
        "y = 10\n",
        "\n",
        "print(\"x == y:\", x == y)   # False\n",
        "print(\"x != y:\", x != y)   # True\n",
        "print(\"x > y:\", x > y)     # False\n",
        "print(\"x < y:\", x < y)     # True\n",
        "print(\"x >= y:\", x >= y)   # False\n",
        "print(\"x <= y:\", x <= y)   # True\n"
      ],
      "metadata": {
        "colab": {
          "base_uri": "https://localhost:8080/"
        },
        "id": "kQjr5PpLmpZ5",
        "outputId": "7821f816-bae9-45f8-8b2b-f814adc44912"
      },
      "execution_count": 6,
      "outputs": [
        {
          "output_type": "stream",
          "name": "stdout",
          "text": [
            "x == y: False\n",
            "x != y: True\n",
            "x > y: False\n",
            "x < y: True\n",
            "x >= y: False\n",
            "x <= y: True\n"
          ]
        }
      ]
    },
    {
      "cell_type": "code",
      "source": [
        "# Arithmetic operations\n",
        "a = 10\n",
        "b = 3\n",
        "\n",
        "sum_result = a + b\n",
        "diff_result = a - b\n",
        "prod_result = a * b\n",
        "quot_result = a / b\n",
        "mod_result = a % b\n",
        "\n",
        "# Display results\n",
        "print(\"Sum:\", sum_result)\n",
        "print(\"Difference:\", diff_result)\n",
        "print(\"Product:\", prod_result)\n",
        "print(\"Quotient:\", quot_result)\n",
        "print(\"Modulus:\", mod_result)\n"
      ],
      "metadata": {
        "colab": {
          "base_uri": "https://localhost:8080/"
        },
        "id": "etLBy9M_mqzx",
        "outputId": "fbe880ca-6021-415d-8ff0-477b09f7acef"
      },
      "execution_count": 7,
      "outputs": [
        {
          "output_type": "stream",
          "name": "stdout",
          "text": [
            "Sum: 13\n",
            "Difference: 7\n",
            "Product: 30\n",
            "Quotient: 3.3333333333333335\n",
            "Modulus: 1\n"
          ]
        }
      ]
    },
    {
      "cell_type": "markdown",
      "source": [
        "#if-else Statement"
      ],
      "metadata": {
        "id": "sWFel4x8ngSB"
      }
    },
    {
      "cell_type": "code",
      "source": [
        "# Input three numbers\n",
        "num1 = float(input(\"Enter first number: \"))\n",
        "num2 = float(input(\"Enter second number: \"))\n",
        "num3 = float(input(\"Enter third number: \"))\n",
        "\n",
        "# Determine the largest number\n",
        "if num1 >= num2 and num1 >= num3:\n",
        "    largest = num1\n",
        "elif num2 >= num1 and num2 >= num3:\n",
        "    largest = num2\n",
        "else:\n",
        "    largest = num3\n",
        "\n",
        "# Display the largest number\n",
        "print(\"The largest number is\", largest)\n"
      ],
      "metadata": {
        "colab": {
          "base_uri": "https://localhost:8080/"
        },
        "id": "Y8U8HkdIniO2",
        "outputId": "c58f527d-589a-4564-8130-d4a781283f9c"
      },
      "execution_count": 8,
      "outputs": [
        {
          "output_type": "stream",
          "name": "stdout",
          "text": [
            "Enter first number: 5\n",
            "Enter second number: 8\n",
            "Enter third number: 9\n",
            "The largest number is 9.0\n"
          ]
        }
      ]
    },
    {
      "cell_type": "markdown",
      "source": [
        "# for Loop"
      ],
      "metadata": {
        "id": "1vuNgzqan1ZS"
      }
    },
    {
      "cell_type": "code",
      "source": [
        "# List of numbers\n",
        "numbers = [1, 2, 3, 4, 5]\n",
        "\n",
        "# Initialize sum\n",
        "total = 0\n",
        "\n",
        "# Iterate over the list and add each number to the total\n",
        "for num in numbers:\n",
        "    total += num\n",
        "\n",
        "# Print the sum\n",
        "print(\"Sum of the list is:\", total)\n",
        "\n"
      ],
      "metadata": {
        "colab": {
          "base_uri": "https://localhost:8080/"
        },
        "id": "kDus54esn4Ol",
        "outputId": "feda76f5-0820-4d7b-c205-7a54b68dd938"
      },
      "execution_count": 12,
      "outputs": [
        {
          "output_type": "stream",
          "name": "stdout",
          "text": [
            "Sum of the list is: 15\n"
          ]
        }
      ]
    },
    {
      "cell_type": "markdown",
      "source": [
        "#while Loop"
      ],
      "metadata": {
        "id": "3yo-BOZZoOK3"
      }
    },
    {
      "cell_type": "code",
      "source": [
        "# Initialize variables\n",
        "num = 1\n",
        "sum_even = 0\n",
        "\n",
        "# Calculate the sum of even numbers\n",
        "while num <= 100:\n",
        "    if num % 2 == 0:\n",
        "        sum_even += num\n",
        "    num += 1\n",
        "\n",
        "# Display the sum\n",
        "print(\"The sum of all even numbers between 1 and 100 is\", sum_even)\n"
      ],
      "metadata": {
        "colab": {
          "base_uri": "https://localhost:8080/"
        },
        "id": "yyk78jtEoLyj",
        "outputId": "72f3b130-23c2-4767-a3f7-3f55ba193b7b"
      },
      "execution_count": 10,
      "outputs": [
        {
          "output_type": "stream",
          "name": "stdout",
          "text": [
            "The sum of all even numbers between 1 and 100 is 2550\n"
          ]
        }
      ]
    },
    {
      "cell_type": "markdown",
      "source": [
        "#Nested if-else"
      ],
      "metadata": {
        "id": "BdrtI6j8oal2"
      }
    },
    {
      "cell_type": "code",
      "source": [
        "# Input from the user\n",
        "grade = input(\"Enter your grade (A, B, C, D, F): \").upper()\n",
        "\n",
        "# Determine the message\n",
        "if grade == 'A':\n",
        "    print(\"Excellent!\")\n",
        "elif grade == 'B':\n",
        "    print(\"Good job!\")\n",
        "elif grade == 'C':\n",
        "    print(\"Well done!\")\n",
        "elif grade == 'D':\n",
        "    print(\"You passed.\")\n",
        "elif grade == 'F':\n",
        "    print(\"Better try again.\")\n",
        "else:\n",
        "    print(\"Invalid grade entered.\")\n"
      ],
      "metadata": {
        "colab": {
          "base_uri": "https://localhost:8080/"
        },
        "id": "ldhEVuN-ocje",
        "outputId": "df236253-8f78-491c-f63e-c69bed00b76e"
      },
      "execution_count": 11,
      "outputs": [
        {
          "output_type": "stream",
          "name": "stdout",
          "text": [
            "Enter your grade (A, B, C, D, F): A\n",
            "Excellent!\n"
          ]
        }
      ]
    },
    {
      "cell_type": "markdown",
      "source": [
        "#Another Exercises\n"
      ],
      "metadata": {
        "id": "k3FTu9k5qBvn"
      }
    },
    {
      "cell_type": "code",
      "source": [
        "# Input from the user\n",
        "num = int(input(\"Enter a number: \"))\n",
        "\n",
        "# Check if the number is even or odd\n",
        "if num % 2 == 0:\n",
        "    print(f\"{num} is an even number.\")\n",
        "else:\n",
        "    print(f\"{num} is an odd number.\")\n"
      ],
      "metadata": {
        "colab": {
          "base_uri": "https://localhost:8080/"
        },
        "id": "rV8OMCwppbFZ",
        "outputId": "3ab35a91-0a26-4428-f98b-a4fe0ac96028"
      },
      "execution_count": 13,
      "outputs": [
        {
          "output_type": "stream",
          "name": "stdout",
          "text": [
            "Enter a number: 4\n",
            "4 is an even number.\n"
          ]
        }
      ]
    },
    {
      "cell_type": "code",
      "source": [
        "# Input from the user\n",
        "char = input(\"Enter a character: \").lower()\n",
        "\n",
        "# Check if the character is a vowel or consonant\n",
        "if char in 'aeiou':\n",
        "    print(f\"{char} is a vowel.\")\n",
        "else:\n",
        "    print(f\"{char} is a consonant.\")\n"
      ],
      "metadata": {
        "colab": {
          "base_uri": "https://localhost:8080/"
        },
        "id": "NVPGbRVopbHL",
        "outputId": "c931e4f6-9982-4ac3-b75d-db97b2cd6eee"
      },
      "execution_count": 14,
      "outputs": [
        {
          "output_type": "stream",
          "name": "stdout",
          "text": [
            "Enter a character: a\n",
            "a is a vowel.\n"
          ]
        }
      ]
    },
    {
      "cell_type": "code",
      "source": [
        "# Input from the user\n",
        "length = float(input(\"Enter the length of the rectangle: \"))\n",
        "width = float(input(\"Enter the width of the rectangle: \"))\n",
        "\n",
        "# Calculate area and perimeter\n",
        "area = length * width\n",
        "perimeter = 2 * (length + width)\n",
        "\n",
        "# Display area and perimeter\n",
        "print(f\"The area of the rectangle is {area}.\")\n",
        "print(f\"The perimeter of the rectangle is {perimeter}.\")\n"
      ],
      "metadata": {
        "colab": {
          "base_uri": "https://localhost:8080/"
        },
        "id": "R8Ko2-ezqkAh",
        "outputId": "1de1358f-c397-4791-d183-ffe93de5b5e6"
      },
      "execution_count": 16,
      "outputs": [
        {
          "output_type": "stream",
          "name": "stdout",
          "text": [
            "Enter the length of the rectangle: 12\n",
            "Enter the width of the rectangle: 14\n",
            "The area of the rectangle is 168.0.\n",
            "The perimeter of the rectangle is 52.0.\n"
          ]
        }
      ]
    },
    {
      "cell_type": "code",
      "source": [
        "# Input from the user\n",
        "age = int(input(\"Enter your age: \"))\n",
        "\n",
        "# Check if the person is eligible to vote\n",
        "if age >= 18:\n",
        "    print(\"You are eligible to vote.\")\n",
        "else:\n",
        "    print(\"You are not eligible to vote.\")\n"
      ],
      "metadata": {
        "colab": {
          "base_uri": "https://localhost:8080/"
        },
        "id": "FszvvvOrq-fl",
        "outputId": "b8cf3e33-b915-4162-d630-ca2abf3d9657"
      },
      "execution_count": 17,
      "outputs": [
        {
          "output_type": "stream",
          "name": "stdout",
          "text": [
            "Enter your age: 23\n",
            "You are eligible to vote.\n"
          ]
        }
      ]
    }
  ]
}