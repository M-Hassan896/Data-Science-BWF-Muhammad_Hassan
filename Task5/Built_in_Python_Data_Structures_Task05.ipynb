{
  "nbformat": 4,
  "nbformat_minor": 0,
  "metadata": {
    "colab": {
      "provenance": []
    },
    "kernelspec": {
      "name": "python3",
      "display_name": "Python 3"
    },
    "language_info": {
      "name": "python"
    }
  },
  "cells": [
    {
      "cell_type": "markdown",
      "source": [
        "**Muhammad Hassan**"
      ],
      "metadata": {
        "id": "fUBgLleemXTf"
      }
    },
    {
      "cell_type": "markdown",
      "source": [
        "**Built-in Python Data Structures**"
      ],
      "metadata": {
        "id": "iskHUXeZkcut"
      }
    },
    {
      "cell_type": "markdown",
      "source": [
        "Exercise: Write a function to reverse a list."
      ],
      "metadata": {
        "id": "cS6azSDYk7VC"
      }
    },
    {
      "cell_type": "code",
      "execution_count": 1,
      "metadata": {
        "colab": {
          "base_uri": "https://localhost:8080/"
        },
        "id": "-G2fHE5UkcA6",
        "outputId": "bd311592-c212-48ae-8ae9-f47a3cd20a0a"
      },
      "outputs": [
        {
          "output_type": "stream",
          "name": "stdout",
          "text": [
            "[5, 4, 3, 2, 1]\n"
          ]
        }
      ],
      "source": [
        "def reverse_list(lst):\n",
        "    return lst[::-1]\n",
        "\n",
        "print(reverse_list([1, 2, 3, 4, 5]))\n"
      ]
    },
    {
      "cell_type": "markdown",
      "source": [
        "Write a function to remove duplicates from a list.\n"
      ],
      "metadata": {
        "id": "Xo9vk948lA0V"
      }
    },
    {
      "cell_type": "code",
      "source": [
        "def remove_duplicates(lst):\n",
        "    return list(set(lst))\n",
        "\n",
        "print(remove_duplicates([1, 2, 2, 3, 4, 4, 5]))\n"
      ],
      "metadata": {
        "colab": {
          "base_uri": "https://localhost:8080/"
        },
        "id": "d4VVb9TNk9xO",
        "outputId": "281785b0-3d61-4a49-d321-fb6b46005d5b"
      },
      "execution_count": 2,
      "outputs": [
        {
          "output_type": "stream",
          "name": "stdout",
          "text": [
            "[1, 2, 3, 4, 5]\n"
          ]
        }
      ]
    },
    {
      "cell_type": "markdown",
      "source": [
        "Exercise: Write a function to find the largest element in a list.\n"
      ],
      "metadata": {
        "id": "kBEhKjrBlHbe"
      }
    },
    {
      "cell_type": "code",
      "source": [
        "def find_largest(lst):\n",
        "    return max(lst)\n",
        "\n",
        "print(find_largest([1, 2, 3, 4, 5]))\n"
      ],
      "metadata": {
        "colab": {
          "base_uri": "https://localhost:8080/"
        },
        "id": "nXLG-TEbk9yd",
        "outputId": "d29f3c94-7a9f-4b7e-922e-9a3c9eef8277"
      },
      "execution_count": 3,
      "outputs": [
        {
          "output_type": "stream",
          "name": "stdout",
          "text": [
            "5\n"
          ]
        }
      ]
    },
    {
      "cell_type": "markdown",
      "source": [
        "Write a function to calculate the sum of all elements in a list."
      ],
      "metadata": {
        "id": "d6kFImkklOb7"
      }
    },
    {
      "cell_type": "code",
      "source": [
        "def sum_of_elements(lst):\n",
        "    return sum(lst)\n",
        "\n",
        "print(sum_of_elements([1, 2, 3, 4, 5]))"
      ],
      "metadata": {
        "colab": {
          "base_uri": "https://localhost:8080/"
        },
        "id": "VYjYLreulQGf",
        "outputId": "1174a148-db00-4d7a-a978-98e97e6ccbab"
      },
      "execution_count": 4,
      "outputs": [
        {
          "output_type": "stream",
          "name": "stdout",
          "text": [
            "15\n"
          ]
        }
      ]
    },
    {
      "cell_type": "markdown",
      "source": [
        "Write a function to access the second element in a tuple.\n"
      ],
      "metadata": {
        "id": "xws-Y__AlbFZ"
      }
    },
    {
      "cell_type": "code",
      "source": [
        "def second_element(tpl):\n",
        "    return tpl[1]\n",
        "\n",
        "print(second_element((1, 2, 3, 4, 5)))"
      ],
      "metadata": {
        "colab": {
          "base_uri": "https://localhost:8080/"
        },
        "id": "LTiKBO1blQND",
        "outputId": "1b34c81b-4e77-4341-bfb5-480ced695ae6"
      },
      "execution_count": 5,
      "outputs": [
        {
          "output_type": "stream",
          "name": "stdout",
          "text": [
            "2\n"
          ]
        }
      ]
    },
    {
      "cell_type": "markdown",
      "source": [
        "Write a function to concatenate two tuples."
      ],
      "metadata": {
        "id": "ewOQGQGwlgtI"
      }
    },
    {
      "cell_type": "code",
      "source": [
        "def concatenate_tuples(tpl1, tpl2):\n",
        "    return tpl1 + tpl2\n",
        "\n",
        "print(concatenate_tuples((1, 2), (3, 4)))\n"
      ],
      "metadata": {
        "colab": {
          "base_uri": "https://localhost:8080/"
        },
        "id": "MbCCSYvtlQOW",
        "outputId": "12042892-7b55-4d54-f8ea-21e974161065"
      },
      "execution_count": 6,
      "outputs": [
        {
          "output_type": "stream",
          "name": "stdout",
          "text": [
            "(1, 2, 3, 4)\n"
          ]
        }
      ]
    },
    {
      "cell_type": "markdown",
      "source": [
        "Write a function to find the length of a tuple."
      ],
      "metadata": {
        "id": "HmNEqSRolnrp"
      }
    },
    {
      "cell_type": "code",
      "source": [
        "def length_of_tuple(tpl):\n",
        "    return len(tpl)\n",
        "\n",
        "print(length_of_tuple((1, 2, 3, 4, 5)))\n"
      ],
      "metadata": {
        "colab": {
          "base_uri": "https://localhost:8080/"
        },
        "id": "4UWdESQYloWb",
        "outputId": "395b56e9-0d27-4cc3-c3e5-93ad3a59ac6c"
      },
      "execution_count": 8,
      "outputs": [
        {
          "output_type": "stream",
          "name": "stdout",
          "text": [
            "5\n"
          ]
        }
      ]
    },
    {
      "cell_type": "markdown",
      "source": [
        "Write a function to add an element to a set.\n"
      ],
      "metadata": {
        "id": "DOjxFgUelvc_"
      }
    },
    {
      "cell_type": "code",
      "source": [
        "def add_element(s, elem):\n",
        "    s.add(elem)\n",
        "    return s\n",
        "\n",
        "print(add_element({1, 2, 3}, 4))\n"
      ],
      "metadata": {
        "colab": {
          "base_uri": "https://localhost:8080/"
        },
        "id": "CVR_NyW2lwkl",
        "outputId": "4fad64a7-fe21-4e88-9509-073d33a894a6"
      },
      "execution_count": 7,
      "outputs": [
        {
          "output_type": "stream",
          "name": "stdout",
          "text": [
            "{1, 2, 3, 4}\n"
          ]
        }
      ]
    },
    {
      "cell_type": "markdown",
      "source": [
        " Write a function to return the union of two sets"
      ],
      "metadata": {
        "id": "JcniZsgHlznk"
      }
    },
    {
      "cell_type": "code",
      "source": [
        "def union_sets(s1, s2):\n",
        "    return s1.union(s2)\n",
        "\n",
        "print(union_sets({1, 2}, {3, 4}))"
      ],
      "metadata": {
        "colab": {
          "base_uri": "https://localhost:8080/"
        },
        "id": "pwoA3c0tl2o9",
        "outputId": "fd31262e-bcb5-4317-a320-9e09a6511036"
      },
      "execution_count": 9,
      "outputs": [
        {
          "output_type": "stream",
          "name": "stdout",
          "text": [
            "{1, 2, 3, 4}\n"
          ]
        }
      ]
    },
    {
      "cell_type": "markdown",
      "source": [
        " Write a function to return the intersection of two sets."
      ],
      "metadata": {
        "id": "8c3xyVuwl5Zd"
      }
    },
    {
      "cell_type": "code",
      "source": [
        "def intersection_sets(s1, s2):\n",
        "    return s1.intersection(s2)\n",
        "\n",
        "print(intersection_sets({1, 2, 3}, {2, 3, 4}))"
      ],
      "metadata": {
        "colab": {
          "base_uri": "https://localhost:8080/"
        },
        "id": "Bnj88LL8l7ff",
        "outputId": "e4c72766-ad3f-4a6d-8f76-2c84a9d5312e"
      },
      "execution_count": 10,
      "outputs": [
        {
          "output_type": "stream",
          "name": "stdout",
          "text": [
            "{2, 3}\n"
          ]
        }
      ]
    },
    {
      "cell_type": "markdown",
      "source": [
        "Write a function to access a value by its key."
      ],
      "metadata": {
        "id": "hqwv01ADmAS9"
      }
    },
    {
      "cell_type": "code",
      "source": [
        "def get_value(d, key):\n",
        "    return d.get(key)\n",
        "\n",
        "print(get_value({'a': 1, 'b': 2}, 'b'))"
      ],
      "metadata": {
        "colab": {
          "base_uri": "https://localhost:8080/"
        },
        "id": "3XA562qNmAub",
        "outputId": "e119ab6a-a518-4f30-f7f2-e774cbdad91c"
      },
      "execution_count": 11,
      "outputs": [
        {
          "output_type": "stream",
          "name": "stdout",
          "text": [
            "2\n"
          ]
        }
      ]
    },
    {
      "cell_type": "markdown",
      "source": [
        " Write a function to add a key-value pair to a dictionary."
      ],
      "metadata": {
        "id": "L15GcjblmCRD"
      }
    },
    {
      "cell_type": "code",
      "source": [
        "def add_key_value(d, key, value):\n",
        "    d[key] = value\n",
        "    return d\n",
        "\n",
        "print(add_key_value({'a': 1}, 'b', 2))\n"
      ],
      "metadata": {
        "colab": {
          "base_uri": "https://localhost:8080/"
        },
        "id": "fr6mxx0jmFeN",
        "outputId": "ccdebaba-9380-4ff0-fabb-4340aead968b"
      },
      "execution_count": 12,
      "outputs": [
        {
          "output_type": "stream",
          "name": "stdout",
          "text": [
            "{'a': 1, 'b': 2}\n"
          ]
        }
      ]
    },
    {
      "cell_type": "markdown",
      "source": [
        "Write a function to iterate over a dictionary and print keys and values.\n"
      ],
      "metadata": {
        "id": "MWCpE6dumHfs"
      }
    },
    {
      "cell_type": "code",
      "source": [
        "def iterate_dictionary(d):\n",
        "    for key, value in d.items():\n",
        "        print(f\"{key}: {value}\")\n",
        "\n",
        "iterate_dictionary({'a': 1, 'b': 2})"
      ],
      "metadata": {
        "colab": {
          "base_uri": "https://localhost:8080/"
        },
        "id": "_tiHPus8mL58",
        "outputId": "2950574b-403d-48c1-c97e-4152a7ca45df"
      },
      "execution_count": 13,
      "outputs": [
        {
          "output_type": "stream",
          "name": "stdout",
          "text": [
            "a: 1\n",
            "b: 2\n"
          ]
        }
      ]
    }
  ]
}