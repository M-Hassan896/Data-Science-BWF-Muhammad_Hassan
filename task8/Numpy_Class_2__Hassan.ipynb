{
  "cells": [
    {
      "cell_type": "code",
      "execution_count": null,
      "id": "0bb76483",
      "metadata": {
        "id": "0bb76483",
        "outputId": "6a363e43-6efc-4612-dc3f-1d3cea19345f"
      },
      "outputs": [
        {
          "name": "stdout",
          "output_type": "stream",
          "text": [
            "[0. 1. 2. 3. 4. 5. 6. 7. 8. 9.]\n",
            "[ 0  1  2  3  4  5  6  7  8  9 10 11]\n",
            "0\n",
            "1\n",
            "2\n",
            "3\n",
            "4\n",
            "5\n",
            "6\n",
            "7\n",
            "8\n",
            "9\n",
            "10\n",
            "11\n"
          ]
        }
      ],
      "source": [
        "# creating numpy/n-d arrays\n",
        "import numpy as np\n",
        "arr1=np.array([1,2,3,4]) # one dimensional array\n",
        "arr1\n",
        "type(arr1) #checking type\n",
        "arr2=np.array([[1,2,3],[4,5,6]]) #two dimensional array\n",
        "arr2\n",
        "arr3=np.zeros((3,3)) # zeros array creation\n",
        "arr3\n",
        "arr4=np.ones((3,3)) # zeros array creation\n",
        "arr4\n",
        "arr5=np.identity(5)\n",
        "arr5\n",
        "arr6=np.arange(10)\n",
        "arr6\n",
        "arr7=arr6.copy()\n",
        "arr7\n",
        "print(arr6.astype(\"float\")) # astype() convert data type into desire\n",
        "arr20=np.arange(12)\n",
        "print(arr20)\n",
        "for i in np.nditer(arr20):\n",
        "    print(i)\n",
        "\n"
      ]
    },
    {
      "cell_type": "markdown",
      "id": "1e30a093",
      "metadata": {
        "id": "1e30a093"
      },
      "source": [
        "numpy array are fast convenient less memory insted of list\n",
        "Numpy is used in syntific and numerical computation"
      ]
    },
    {
      "cell_type": "code",
      "execution_count": null,
      "id": "a607808c",
      "metadata": {
        "id": "a607808c",
        "outputId": "a6fee3aa-1265-4ef0-c6e8-edce77525d9c"
      },
      "outputs": [
        {
          "name": "stdout",
          "output_type": "stream",
          "text": [
            "[1 2 3 4 5]\n"
          ]
        }
      ],
      "source": [
        "import numpy as np\n",
        "a=np.array([1,2,3,4,5])\n",
        "print(a)\n"
      ]
    },
    {
      "cell_type": "code",
      "execution_count": null,
      "id": "c3786e3a",
      "metadata": {
        "id": "c3786e3a",
        "outputId": "8e55b11e-b660-4952-80dc-7c6261dfbf4e"
      },
      "outputs": [
        {
          "data": {
            "text/plain": [
              "array([1, 2, 3, 4, 5])"
            ]
          },
          "execution_count": 13,
          "metadata": {},
          "output_type": "execute_result"
        }
      ],
      "source": [
        "import numpy as np\n",
        "a=np.array([1,2,3,4,5])\n",
        "a"
      ]
    },
    {
      "cell_type": "code",
      "execution_count": null,
      "id": "2af4e7e9",
      "metadata": {
        "id": "2af4e7e9",
        "outputId": "48ecad0f-6b21-4a35-ddde-9b6fd75ff0d2"
      },
      "outputs": [
        {
          "data": {
            "text/plain": [
              "1"
            ]
          },
          "execution_count": 14,
          "metadata": {},
          "output_type": "execute_result"
        }
      ],
      "source": [
        "a[0]"
      ]
    },
    {
      "cell_type": "code",
      "execution_count": null,
      "id": "e1ea491f",
      "metadata": {
        "id": "e1ea491f"
      },
      "outputs": [],
      "source": [
        "import time\n",
        "import sys"
      ]
    },
    {
      "cell_type": "code",
      "execution_count": null,
      "id": "4deced46",
      "metadata": {
        "id": "4deced46",
        "outputId": "fb052c40-7907-44fd-fbaa-e5198b9b9cb6"
      },
      "outputs": [
        {
          "name": "stdout",
          "output_type": "stream",
          "text": [
            "28000\n"
          ]
        }
      ],
      "source": [
        "import time\n",
        "import sys\n",
        "b=range(1000)\n",
        "print(sys.getsizeof(5)*len(b))"
      ]
    },
    {
      "cell_type": "code",
      "execution_count": null,
      "id": "edab2ccc",
      "metadata": {
        "id": "edab2ccc",
        "outputId": "08322f9e-b2cf-4310-da42-9ca5cfadc30f"
      },
      "outputs": [
        {
          "name": "stdout",
          "output_type": "stream",
          "text": [
            "4000\n"
          ]
        }
      ],
      "source": [
        "import time\n",
        "import sys\n",
        "c=np.arange(1000)\n",
        "print(c.size*c.itemsize)"
      ]
    },
    {
      "cell_type": "code",
      "execution_count": null,
      "id": "0e8f26f6",
      "metadata": {
        "id": "0e8f26f6",
        "outputId": "44c539d3-8f86-42ab-8e9d-950ae513e608"
      },
      "outputs": [
        {
          "name": "stdout",
          "output_type": "stream",
          "text": [
            "[[1 2 3]\n",
            " [4 5 6]]\n"
          ]
        }
      ],
      "source": [
        "d=np.array([(1,2,3),(4,5,6)])\n",
        "print(d)"
      ]
    },
    {
      "cell_type": "code",
      "execution_count": null,
      "id": "d7591573",
      "metadata": {
        "id": "d7591573",
        "outputId": "a652570d-0a0b-4b88-ef56-c0561c9fed05"
      },
      "outputs": [
        {
          "name": "stdout",
          "output_type": "stream",
          "text": [
            "120.36490440368652\n",
            "6.995677947998047\n"
          ]
        }
      ],
      "source": [
        "size=100000\n",
        "l1=range(size)\n",
        "l2=range(size)\n",
        "start=time.time()\n",
        "result=[(x,y) for x,y in zip(l1,l2)]\n",
        "print((time.time()-start)*1000)\n",
        "A1=np.arange(size)\n",
        "A2=np.arange(size)\n",
        "start=time.time()\n",
        "result=A1+A2\n",
        "print((time.time()-start)*1000)"
      ]
    },
    {
      "cell_type": "code",
      "execution_count": null,
      "id": "1633661b",
      "metadata": {
        "id": "1633661b",
        "outputId": "117c887f-554a-47d6-acc2-47eaa57b2e89"
      },
      "outputs": [
        {
          "name": "stdout",
          "output_type": "stream",
          "text": [
            "[(1, 4), (2, 5), (3, 6)]\n"
          ]
        }
      ],
      "source": [
        "L1=[1,2,3]\n",
        "L2=[4,5,6]\n",
        "zipped=list(zip(L1,L2))\n",
        "print(zipped)"
      ]
    },
    {
      "cell_type": "code",
      "execution_count": null,
      "id": "6bea5b72",
      "metadata": {
        "id": "6bea5b72",
        "outputId": "3caec5e6-9ea1-4230-ba0e-eaf7b498cc27"
      },
      "outputs": [
        {
          "name": "stdout",
          "output_type": "stream",
          "text": [
            "None\n"
          ]
        }
      ],
      "source": [
        "L1=[1,2,3]\n",
        "L2=[4,5,6]\n",
        "zipped=L1.extend(L2)\n",
        "print(zipped)"
      ]
    },
    {
      "cell_type": "markdown",
      "id": "3ecfb15c",
      "metadata": {
        "id": "3ecfb15c"
      },
      "source": [
        "# Numpy Operations\n",
        "\n",
        " Find dimension of Array\n",
        ""
      ]
    },
    {
      "cell_type": "code",
      "execution_count": null,
      "id": "21a54e29",
      "metadata": {
        "id": "21a54e29",
        "outputId": "64a2ab53-1d23-4ad8-9cbe-c078d540c7c4"
      },
      "outputs": [
        {
          "name": "stdout",
          "output_type": "stream",
          "text": [
            "2\n",
            "2\n"
          ]
        }
      ],
      "source": [
        "import numpy as np\n",
        "a=np.array([(1,2,3),(4,5,6)])\n",
        "b=np.array([1,2,3])\n",
        "print(b.ndim)\n",
        "print(a.ndim)"
      ]
    },
    {
      "cell_type": "markdown",
      "id": "5d974e19",
      "metadata": {
        "id": "5d974e19"
      },
      "source": [
        "# finding byte size of Array"
      ]
    },
    {
      "cell_type": "code",
      "execution_count": null,
      "id": "317ef103",
      "metadata": {
        "id": "317ef103",
        "outputId": "dc7c9fb7-a43e-4327-8642-03cb47a2599f"
      },
      "outputs": [
        {
          "name": "stdout",
          "output_type": "stream",
          "text": [
            "4\n"
          ]
        }
      ],
      "source": [
        "print(a.itemsize)"
      ]
    },
    {
      "cell_type": "code",
      "execution_count": null,
      "id": "e8fccbcd",
      "metadata": {
        "id": "e8fccbcd",
        "outputId": "b5b687e2-3ccb-4d54-87e3-ed4758d714a1"
      },
      "outputs": [
        {
          "data": {
            "text/plain": [
              "6"
            ]
          },
          "execution_count": 23,
          "metadata": {},
          "output_type": "execute_result"
        }
      ],
      "source": [
        "arr11=np.array([[1,2,3],[4,25,6]])\n",
        "arr11.itemsize\n",
        "arr12=np.array([[1,2,3,6],[4,5,6,7]])\n",
        "arr12.itemsize\n",
        "arr11.size"
      ]
    },
    {
      "cell_type": "code",
      "execution_count": null,
      "id": "f1332823",
      "metadata": {
        "id": "f1332823",
        "outputId": "39781493-a15d-49ef-b632-ee8626d9fe0a"
      },
      "outputs": [
        {
          "name": "stdout",
          "output_type": "stream",
          "text": [
            "int32\n"
          ]
        }
      ],
      "source": [
        "print(a.dtype)"
      ]
    },
    {
      "cell_type": "markdown",
      "id": "218a9398",
      "metadata": {
        "id": "218a9398"
      },
      "source": [
        "# Finding size of Array"
      ]
    },
    {
      "cell_type": "code",
      "execution_count": null,
      "id": "9dde0f55",
      "metadata": {
        "id": "9dde0f55",
        "outputId": "d681d899-9958-48a8-a468-3f4ce6770bec"
      },
      "outputs": [
        {
          "name": "stdout",
          "output_type": "stream",
          "text": [
            "6\n"
          ]
        }
      ],
      "source": [
        "print(a.size)"
      ]
    },
    {
      "cell_type": "markdown",
      "id": "734a9e05",
      "metadata": {
        "id": "734a9e05"
      },
      "source": [
        "# finding shape of Array"
      ]
    },
    {
      "cell_type": "code",
      "execution_count": null,
      "id": "473a1988",
      "metadata": {
        "id": "473a1988",
        "outputId": "28a6aeab-9334-461f-ff73-50513413c51a"
      },
      "outputs": [
        {
          "name": "stdout",
          "output_type": "stream",
          "text": [
            "(2, 3)\n"
          ]
        }
      ],
      "source": [
        "print(a.shape)"
      ]
    },
    {
      "cell_type": "code",
      "execution_count": null,
      "id": "d9e523d6",
      "metadata": {
        "id": "d9e523d6",
        "outputId": "b7ff7b7b-54cd-4cc7-fcb5-64cab605128a"
      },
      "outputs": [
        {
          "name": "stdout",
          "output_type": "stream",
          "text": [
            "[[1 2]\n",
            " [3 4]\n",
            " [7 8]\n",
            " [9 3]]\n"
          ]
        }
      ],
      "source": [
        "a=np.array([(1,2,3,4),(7,8,9,3)])\n",
        "a=a.reshape(4,2)\n",
        "print(a)"
      ]
    },
    {
      "cell_type": "markdown",
      "id": "36513164",
      "metadata": {
        "id": "36513164"
      },
      "source": [
        "# Finding Slicing In Array"
      ]
    },
    {
      "cell_type": "code",
      "execution_count": null,
      "id": "c7a9f4ec",
      "metadata": {
        "id": "c7a9f4ec",
        "outputId": "5b5f3396-1b80-426e-c114-dc6b5743f661"
      },
      "outputs": [
        {
          "name": "stdout",
          "output_type": "stream",
          "text": [
            "3\n"
          ]
        },
        {
          "data": {
            "text/plain": [
              "array([[False, False, False, False],\n",
              "       [ True,  True,  True, False]])"
            ]
          },
          "execution_count": 16,
          "metadata": {},
          "output_type": "execute_result"
        }
      ],
      "source": [
        "a=np.array([(1,2,3,4),(7,8,9,3)])\n",
        "print(a[0,2])\n",
        "a>4"
      ]
    },
    {
      "cell_type": "code",
      "execution_count": null,
      "id": "ecfd9203",
      "metadata": {
        "id": "ecfd9203",
        "outputId": "5d7e0dbf-b73d-4095-db4d-fdbbf81fba22"
      },
      "outputs": [
        {
          "name": "stdout",
          "output_type": "stream",
          "text": [
            "[4 3]\n"
          ]
        }
      ],
      "source": [
        "print(a[0:,3])"
      ]
    },
    {
      "cell_type": "code",
      "execution_count": null,
      "id": "2987bda2",
      "metadata": {
        "id": "2987bda2",
        "outputId": "489dcba7-db69-47ac-f361-ac5bdb6bc600"
      },
      "outputs": [
        {
          "name": "stdout",
          "output_type": "stream",
          "text": [
            "[4 3]\n"
          ]
        }
      ],
      "source": [
        "print(a[0:2,3])\n",
        "print(a[2:4,1:3])"
      ]
    },
    {
      "cell_type": "code",
      "execution_count": null,
      "id": "cbc82e2c",
      "metadata": {
        "id": "cbc82e2c"
      },
      "outputs": [],
      "source": [
        "print(a[0,2,4])#fancy indexing"
      ]
    },
    {
      "cell_type": "markdown",
      "id": "1366940a",
      "metadata": {
        "id": "1366940a"
      },
      "source": [
        "# Perform Linespacing in Array"
      ]
    },
    {
      "cell_type": "code",
      "execution_count": null,
      "id": "cfb3a7fb",
      "metadata": {
        "id": "cfb3a7fb",
        "outputId": "be4f5569-4d99-4e10-b9c4-3d8baaca1d77"
      },
      "outputs": [
        {
          "name": "stdout",
          "output_type": "stream",
          "text": [
            "[1.         1.22222222 1.44444444 1.66666667 1.88888889 2.11111111\n",
            " 2.33333333 2.55555556 2.77777778 3.        ]\n"
          ]
        }
      ],
      "source": [
        "a=np.linspace(1,3,10)\n",
        "print(a)"
      ]
    },
    {
      "cell_type": "markdown",
      "id": "c8fcc00f",
      "metadata": {
        "id": "c8fcc00f"
      },
      "source": [
        "# Min ,Max ,Sum of Array"
      ]
    },
    {
      "cell_type": "code",
      "execution_count": null,
      "id": "0113fb8c",
      "metadata": {
        "id": "0113fb8c"
      },
      "outputs": [],
      "source": [
        "a=np.array([1,2,3,4,5,6,7])\n",
        "print(a.max())\n",
        "print(a.min())\n",
        "print(a.max())\n",
        "print(a.mean())"
      ]
    },
    {
      "cell_type": "markdown",
      "id": "54b6a24f",
      "metadata": {
        "id": "54b6a24f"
      },
      "source": [
        "# find Axis Row[1] and Colum[0]"
      ]
    },
    {
      "cell_type": "code",
      "execution_count": null,
      "id": "55b35e6b",
      "metadata": {
        "id": "55b35e6b",
        "outputId": "539f2b14-444e-4558-d825-a8c149245116"
      },
      "outputs": [
        {
          "name": "stdout",
          "output_type": "stream",
          "text": [
            "[ 6  8 10 12]\n",
            "[10 26]\n",
            "4.5\n",
            "4.5\n"
          ]
        }
      ],
      "source": [
        "a=np.array([(1,2,3,4),(5,6,7,8)])\n",
        "print(a.sum(axis=0))\n",
        "print(a.sum(axis=1))\n",
        "print(np.median(a))\n",
        "print(a.mean())"
      ]
    },
    {
      "cell_type": "markdown",
      "id": "3842d870",
      "metadata": {
        "id": "3842d870"
      },
      "source": [
        "# Finding square root and Standard deviation"
      ]
    },
    {
      "cell_type": "code",
      "execution_count": null,
      "id": "90c801fb",
      "metadata": {
        "id": "90c801fb",
        "outputId": "7384478e-224b-4809-fedb-637e39d76834"
      },
      "outputs": [
        {
          "name": "stdout",
          "output_type": "stream",
          "text": [
            "[[1.         1.41421356 1.73205081 2.        ]\n",
            " [2.23606798 2.44948974 2.64575131 2.82842712]]\n"
          ]
        }
      ],
      "source": [
        "a=np.array([(1,2,3,4),(5,6,7,8)])\n",
        "print(np.sqrt(a))\n",
        "a=np.array([(1,2,3,4),(5,6,7,8)])\n",
        "print(np.std(a))"
      ]
    },
    {
      "cell_type": "markdown",
      "id": "da7c1571",
      "metadata": {
        "id": "da7c1571"
      },
      "source": [
        "# Vertical and Horizontal stacking"
      ]
    },
    {
      "cell_type": "code",
      "execution_count": null,
      "id": "a9644989",
      "metadata": {
        "id": "a9644989",
        "outputId": "b2f4825a-6b87-4348-90e4-b50c61f6e259"
      },
      "outputs": [
        {
          "name": "stdout",
          "output_type": "stream",
          "text": [
            "[[1 2 3 1 2 3]\n",
            " [4 5 6 4 5 6]]\n"
          ]
        }
      ],
      "source": [
        "print(np.hstack((a,b)))"
      ]
    },
    {
      "cell_type": "code",
      "execution_count": null,
      "id": "68ee122b",
      "metadata": {
        "id": "68ee122b"
      },
      "outputs": [],
      "source": [
        "print(np.vstack((a,b)))"
      ]
    },
    {
      "cell_type": "code",
      "execution_count": null,
      "id": "3f687252",
      "metadata": {
        "id": "3f687252",
        "outputId": "5367a8b5-a5e7-4890-870b-8e8b321eeeab"
      },
      "outputs": [
        {
          "name": "stdout",
          "output_type": "stream",
          "text": [
            "[array([0, 1, 2, 3, 4]), array([5, 6, 7, 8, 9])]\n"
          ]
        }
      ],
      "source": [
        "arr1=np.arange(10)\n",
        "\n",
        "print(np.hsplit(arr1,2))"
      ]
    },
    {
      "cell_type": "markdown",
      "id": "558d0c59",
      "metadata": {
        "id": "558d0c59"
      },
      "source": [
        "# Convering Array to simgle"
      ]
    },
    {
      "cell_type": "code",
      "execution_count": null,
      "id": "0f8b475a",
      "metadata": {
        "id": "0f8b475a",
        "outputId": "76b38d78-6562-4791-d643-dd4de0df0f26"
      },
      "outputs": [
        {
          "name": "stdout",
          "output_type": "stream",
          "text": [
            "[1 2 3 4 5 6]\n",
            "[[1 4]\n",
            " [2 5]\n",
            " [3 6]]\n"
          ]
        }
      ],
      "source": [
        "a=np.array([(1,2,3),(4,5,6)])\n",
        "print(a.ravel())\n",
        "print(a.transpose())"
      ]
    },
    {
      "cell_type": "markdown",
      "id": "f2af81c1",
      "metadata": {
        "id": "f2af81c1"
      },
      "source": [
        "# Sin Cosine Function"
      ]
    },
    {
      "cell_type": "code",
      "execution_count": null,
      "id": "aa3cc182",
      "metadata": {
        "id": "aa3cc182",
        "outputId": "f08b7768-4140-4b66-d58f-cc41ace3ca44"
      },
      "outputs": [
        {
          "data": {
            "image/png": "[encoded data removed]",
            "text/plain": [
              "<Figure size 432x288 with 1 Axes>"
            ]
          },
          "metadata": {
            "needs_background": "light"
          },
          "output_type": "display_data"
        }
      ],
      "source": [
        "import numpy as np\n",
        "import matplotlib.pyplot as plt\n",
        "x=np.arange(0,3*np.pi,0.1)\n",
        "y=np.sin(x)\n",
        "y=np.cos(x)\n",
        "plt.plot(x,y)\n",
        "plt.show()"
      ]
    },
    {
      "cell_type": "markdown",
      "id": "024c0371",
      "metadata": {
        "id": "024c0371"
      },
      "source": [
        "# Exponential e logrithmic log function"
      ]
    },
    {
      "cell_type": "code",
      "execution_count": null,
      "id": "33281e5b",
      "metadata": {
        "id": "33281e5b",
        "outputId": "e3fb538e-08c8-431c-885f-7cf9e3bd6bb1"
      },
      "outputs": [
        {
          "name": "stdout",
          "output_type": "stream",
          "text": [
            "[ 2.71828183  7.3890561  20.08553692]\n"
          ]
        }
      ],
      "source": [
        "ar=np.array([1,2,3])\n",
        "print(np.exp(ar))"
      ]
    },
    {
      "cell_type": "code",
      "execution_count": null,
      "id": "dda03843",
      "metadata": {
        "id": "dda03843",
        "outputId": "52b27dcb-db5c-4061-cf98-0151df77ee87"
      },
      "outputs": [
        {
          "name": "stdout",
          "output_type": "stream",
          "text": [
            "[0.         0.69314718 1.09861229]\n"
          ]
        }
      ],
      "source": [
        "ar=np.array([1,2,3])\n",
        "print(np.log(ar))"
      ]
    },
    {
      "cell_type": "code",
      "execution_count": null,
      "id": "b90c6db1",
      "metadata": {
        "id": "b90c6db1",
        "outputId": "6a065c7e-8eaf-4a2a-9a7c-e676498d2ff9"
      },
      "outputs": [
        {
          "name": "stdout",
          "output_type": "stream",
          "text": [
            "[0.         0.30103    0.47712125]\n"
          ]
        }
      ],
      "source": [
        "ar=np.array([1,2,3])\n",
        "print(np.log10(ar))"
      ]
    },
    {
      "cell_type": "code",
      "execution_count": null,
      "id": "52c9d767",
      "metadata": {
        "id": "52c9d767",
        "outputId": "0c1057ec-9ebc-4325-c75a-a2e27d840a9f"
      },
      "outputs": [
        {
          "data": {
            "text/plain": [
              "4"
            ]
          },
          "execution_count": 25,
          "metadata": {},
          "output_type": "execute_result"
        }
      ],
      "source": [
        "arr16=np.array([[1,2,3],[4,25,6]])\n",
        "arr16.itemsize"
      ]
    },
    {
      "cell_type": "code",
      "execution_count": null,
      "id": "9c482103",
      "metadata": {
        "id": "9c482103",
        "outputId": "38e0a0e7-6e5f-4f94-f808-06da73ac8efc"
      },
      "outputs": [
        {
          "data": {
            "text/plain": [
              "4"
            ]
          },
          "execution_count": 26,
          "metadata": {},
          "output_type": "execute_result"
        }
      ],
      "source": [
        "arr61=np.array([(1,2,3),(4,5,6)])\n",
        "arr61.itemsize"
      ]
    },
    {
      "cell_type": "markdown",
      "id": "6e994960",
      "metadata": {
        "id": "6e994960"
      },
      "source": [
        "# Plotting graphs using Numpy"
      ]
    },
    {
      "cell_type": "code",
      "execution_count": null,
      "id": "edcb0017",
      "metadata": {
        "id": "edcb0017"
      },
      "outputs": [],
      "source": [
        "import numpy as np\n",
        "x=np.linspace(-40,40,100)\n",
        "y=np.sin(x)"
      ]
    },
    {
      "cell_type": "code",
      "execution_count": null,
      "id": "daa55a5f",
      "metadata": {
        "id": "daa55a5f",
        "outputId": "767fef3f-a1bb-4342-9028-4ee595c095f7"
      },
      "outputs": [
        {
          "data": {
            "text/plain": [
              "100"
            ]
          },
          "execution_count": 24,
          "metadata": {},
          "output_type": "execute_result"
        }
      ],
      "source": [
        "x.size"
      ]
    },
    {
      "cell_type": "code",
      "execution_count": null,
      "id": "82c5ee76",
      "metadata": {
        "id": "82c5ee76",
        "outputId": "71e9bb1a-5c64-46ff-8d68-5ba9b14d9d11"
      },
      "outputs": [
        {
          "data": {
            "text/plain": [
              "[<matplotlib.lines.Line2D at 0x15519d984f0>]"
            ]
          },
          "execution_count": 29,
          "metadata": {},
          "output_type": "execute_result"
        },
        {
          "data": {
            "image/png": "[encoded data removed]",
            "text/plain": [
              "<Figure size 432x288 with 1 Axes>"
            ]
          },
          "metadata": {
            "needs_background": "light"
          },
          "output_type": "display_data"
        }
      ],
      "source": [
        "import numpy as np\n",
        "import matplotlib.pyplot as plt\n",
        "%matplotlib inline\n",
        "plt.plot(x,y)"
      ]
    },
    {
      "cell_type": "code",
      "execution_count": null,
      "id": "2b700f83",
      "metadata": {
        "id": "2b700f83",
        "outputId": "46c3913f-bd36-4a86-f481-6a45923e3536"
      },
      "outputs": [
        {
          "data": {
            "text/plain": [
              "[<matplotlib.lines.Line2D at 0x1551a540d90>]"
            ]
          },
          "execution_count": 30,
          "metadata": {},
          "output_type": "execute_result"
        },
        {
          "data": {
            "image/png": "[encoded data removed]",
            "text/plain": [
              "<Figure size 432x288 with 1 Axes>"
            ]
          },
          "metadata": {
            "needs_background": "light"
          },
          "output_type": "display_data"
        }
      ],
      "source": [
        "y=x*x+2*x+2\n",
        "plt.plot(x,y)"
      ]
    },
    {
      "cell_type": "markdown",
      "id": "7cc66124",
      "metadata": {
        "id": "7cc66124"
      },
      "source": [
        "# Broadcasting\n",
        "#if array have different shapes and diensions we can perform different operations with broadcasting"
      ]
    },
    {
      "cell_type": "code",
      "execution_count": null,
      "id": "964ac6f6",
      "metadata": {
        "id": "964ac6f6",
        "outputId": "fa248692-fac3-4b04-9717-79d5257eabae"
      },
      "outputs": [
        {
          "data": {
            "text/plain": [
              "0.8148654681287373"
            ]
          },
          "execution_count": 32,
          "metadata": {},
          "output_type": "execute_result"
        }
      ],
      "source": [
        "#Some Important Numpy Functions\n",
        "import numpy as np\n",
        "np.random.random() # It gives random value"
      ]
    },
    {
      "cell_type": "code",
      "execution_count": null,
      "id": "bb0069b6",
      "metadata": {
        "id": "bb0069b6",
        "outputId": "30f31099-24fa-4189-dc3b-bfce9210c0ce"
      },
      "outputs": [
        {
          "data": {
            "text/plain": [
              "0.417022004702574"
            ]
          },
          "execution_count": 34,
          "metadata": {},
          "output_type": "execute_result"
        }
      ],
      "source": [
        "np.random.seed(1)\n",
        "np.random.random()"
      ]
    },
    {
      "cell_type": "code",
      "execution_count": null,
      "id": "8030aeee",
      "metadata": {
        "id": "8030aeee",
        "outputId": "b801172f-1675-4f65-ab0d-47683cb525c9"
      },
      "outputs": [
        {
          "data": {
            "text/plain": [
              "8.995703840689034"
            ]
          },
          "execution_count": 2,
          "metadata": {},
          "output_type": "execute_result"
        }
      ],
      "source": [
        "import numpy as np\n",
        "np.random.uniform(3,10)"
      ]
    },
    {
      "cell_type": "code",
      "execution_count": null,
      "id": "d9e167dd",
      "metadata": {
        "id": "d9e167dd",
        "outputId": "389bcfc4-9fef-4fd0-9a4c-6d9787a3d7fd"
      },
      "outputs": [
        {
          "data": {
            "text/plain": [
              "array([3.94695754, 8.72452418, 5.96856781, 9.51231441])"
            ]
          },
          "execution_count": 3,
          "metadata": {},
          "output_type": "execute_result"
        }
      ],
      "source": [
        "np.random.uniform(3,10,4) #it gives four random values"
      ]
    },
    {
      "cell_type": "code",
      "execution_count": null,
      "id": "9accfa46",
      "metadata": {
        "id": "9accfa46"
      },
      "outputs": [],
      "source": [
        "a=np.random.randint(1,10,5)"
      ]
    },
    {
      "cell_type": "code",
      "execution_count": null,
      "id": "a0f5fa17",
      "metadata": {
        "id": "a0f5fa17",
        "outputId": "996fcef8-d88a-4999-c54c-9d51647b9274"
      },
      "outputs": [
        {
          "data": {
            "text/plain": [
              "array([7, 3, 6, 9, 9])"
            ]
          },
          "execution_count": 8,
          "metadata": {},
          "output_type": "execute_result"
        }
      ],
      "source": [
        "a"
      ]
    },
    {
      "cell_type": "code",
      "execution_count": null,
      "id": "1ddbcd28",
      "metadata": {
        "id": "1ddbcd28",
        "outputId": "77f8f262-4c5a-4aeb-f7d6-c25f20412bec"
      },
      "outputs": [
        {
          "data": {
            "text/plain": [
              "3"
            ]
          },
          "execution_count": 9,
          "metadata": {},
          "output_type": "execute_result"
        }
      ],
      "source": [
        "np.argmax(a) #it gives index which contain max()value"
      ]
    },
    {
      "cell_type": "code",
      "execution_count": null,
      "id": "e780fdc3",
      "metadata": {
        "id": "e780fdc3",
        "outputId": "642f6d7e-07c9-41b4-ac9a-641a3e712708"
      },
      "outputs": [
        {
          "data": {
            "text/plain": [
              "1"
            ]
          },
          "execution_count": 10,
          "metadata": {},
          "output_type": "execute_result"
        }
      ],
      "source": [
        "np.argmin(a)"
      ]
    },
    {
      "cell_type": "code",
      "execution_count": null,
      "id": "baf30eb5",
      "metadata": {
        "id": "baf30eb5",
        "outputId": "49763c77-847a-487a-95f9-49cea56e1d3a"
      },
      "outputs": [
        {
          "data": {
            "text/plain": [
              "array([6, 9, 1, 8, 5])"
            ]
          },
          "execution_count": 11,
          "metadata": {},
          "output_type": "execute_result"
        }
      ],
      "source": [
        "a=np.random.randint(1,10,5)\n",
        "a"
      ]
    },
    {
      "cell_type": "code",
      "execution_count": null,
      "id": "0cd6b5d0",
      "metadata": {
        "id": "0cd6b5d0"
      },
      "outputs": [],
      "source": [
        "a[a%2==1]=-1 # it replace odd with negative values"
      ]
    },
    {
      "cell_type": "code",
      "execution_count": null,
      "id": "6f9e6fd1",
      "metadata": {
        "id": "6f9e6fd1",
        "outputId": "b65d12f1-3e87-4cb6-d879-4e893eae7ca0"
      },
      "outputs": [
        {
          "data": {
            "text/plain": [
              "array([ 6, -1, -1,  8, -1])"
            ]
          },
          "execution_count": 13,
          "metadata": {},
          "output_type": "execute_result"
        }
      ],
      "source": [
        "a"
      ]
    },
    {
      "cell_type": "code",
      "execution_count": null,
      "id": "6c93efdb",
      "metadata": {
        "id": "6c93efdb",
        "outputId": "e6b3a4a0-5c70-47ad-d0d6-1f20c8907b89"
      },
      "outputs": [
        {
          "data": {
            "text/plain": [
              "array([ 6, -1, -1,  8, -1])"
            ]
          },
          "execution_count": 14,
          "metadata": {},
          "output_type": "execute_result"
        }
      ],
      "source": [
        "np.where(a%2==1,-1,a)"
      ]
    },
    {
      "cell_type": "code",
      "execution_count": null,
      "id": "f17f31fa",
      "metadata": {
        "id": "f17f31fa",
        "outputId": "7f180872-9ffb-4254-fbf1-4b9b7aeaa59a"
      },
      "outputs": [
        {
          "data": {
            "text/plain": [
              "array([ 6, -1, -1,  8, -1])"
            ]
          },
          "execution_count": 15,
          "metadata": {},
          "output_type": "execute_result"
        }
      ],
      "source": [
        "a"
      ]
    },
    {
      "cell_type": "code",
      "execution_count": null,
      "id": "0fa01109",
      "metadata": {
        "id": "0fa01109",
        "outputId": "368ffeec-5b85-4d54-9876-e5547339157c"
      },
      "outputs": [
        {
          "data": {
            "text/plain": [
              "array([16, 13,  5, 12,  1,  1])"
            ]
          },
          "execution_count": 16,
          "metadata": {},
          "output_type": "execute_result"
        }
      ],
      "source": [
        "a=np.random.randint(1,20,6)\n",
        "a"
      ]
    },
    {
      "cell_type": "code",
      "execution_count": null,
      "id": "9d8b92d9",
      "metadata": {
        "id": "9d8b92d9",
        "outputId": "1996b906-06bf-442a-c39e-9e9ec6c10995"
      },
      "outputs": [
        {
          "data": {
            "text/plain": [
              "array([16, -1, -1, 12, -1, -1])"
            ]
          },
          "execution_count": 17,
          "metadata": {},
          "output_type": "execute_result"
        }
      ],
      "source": [
        "np.where(a%2==1,-1,a) #it gives modify value in other array and do not change the previous arary"
      ]
    },
    {
      "cell_type": "code",
      "execution_count": null,
      "id": "fb7406b6",
      "metadata": {
        "id": "fb7406b6",
        "outputId": "10485447-633f-4868-bb54-4cdd82c5105d"
      },
      "outputs": [
        {
          "data": {
            "text/plain": [
              "array([16, 13,  5, 12,  1,  1])"
            ]
          },
          "execution_count": 18,
          "metadata": {},
          "output_type": "execute_result"
        }
      ],
      "source": [
        "a"
      ]
    },
    {
      "cell_type": "code",
      "execution_count": null,
      "id": "a0ea44f2",
      "metadata": {
        "id": "a0ea44f2"
      },
      "outputs": [],
      "source": [
        "a.sort()"
      ]
    },
    {
      "cell_type": "code",
      "execution_count": null,
      "id": "488a725a",
      "metadata": {
        "id": "488a725a",
        "outputId": "98a31562-3529-4fb9-fe87-e7c820572afd"
      },
      "outputs": [
        {
          "data": {
            "text/plain": [
              "array([ 1,  1,  5, 12, 13, 16])"
            ]
          },
          "execution_count": 20,
          "metadata": {},
          "output_type": "execute_result"
        }
      ],
      "source": [
        "a=np.sort(a)\n",
        "a"
      ]
    },
    {
      "cell_type": "code",
      "execution_count": null,
      "id": "b683fd26",
      "metadata": {
        "id": "b683fd26",
        "outputId": "ebac80cc-a4ed-4f31-94b5-0c2b43c97aa9"
      },
      "outputs": [
        {
          "data": {
            "text/plain": [
              "1.0"
            ]
          },
          "execution_count": 21,
          "metadata": {},
          "output_type": "execute_result"
        }
      ],
      "source": [
        "np.percentile(a,20)"
      ]
    },
    {
      "cell_type": "code",
      "execution_count": null,
      "id": "504c55d1",
      "metadata": {
        "id": "504c55d1",
        "outputId": "9fe71595-6b94-4d0e-b8f2-814b07f0c16f"
      },
      "outputs": [
        {
          "data": {
            "text/plain": [
              "array([ 1,  2,  3,  4,  5,  6,  7,  8,  9, 10])"
            ]
          },
          "execution_count": 23,
          "metadata": {},
          "output_type": "execute_result"
        }
      ],
      "source": [
        "a=np.arange(1,11)\n",
        "a"
      ]
    },
    {
      "cell_type": "code",
      "execution_count": null,
      "id": "d7b9366c",
      "metadata": {
        "id": "d7b9366c",
        "outputId": "32361a37-e381-4e52-a6e2-c57038927b81"
      },
      "outputs": [
        {
          "data": {
            "text/plain": [
              "3.6999999999999997"
            ]
          },
          "execution_count": 25,
          "metadata": {},
          "output_type": "execute_result"
        }
      ],
      "source": [
        "np.percentile(a,30)"
      ]
    },
    {
      "cell_type": "code",
      "execution_count": null,
      "id": "5fcb2cf8",
      "metadata": {
        "id": "5fcb2cf8"
      },
      "outputs": [],
      "source": []
    }
  ],
  "metadata": {
    "kernelspec": {
      "display_name": "Python 3 (ipykernel)",
      "language": "python",
      "name": "python3"
    },
    "language_info": {
      "codemirror_mode": {
        "name": "ipython",
        "version": 3
      },
      "file_extension": ".py",
      "mimetype": "text/x-python",
      "name": "python",
      "nbconvert_exporter": "python",
      "pygments_lexer": "ipython3",
      "version": "3.9.7"
    },
    "colab": {
      "provenance": []
    }
  },
  "nbformat": 4,
  "nbformat_minor": 5
}